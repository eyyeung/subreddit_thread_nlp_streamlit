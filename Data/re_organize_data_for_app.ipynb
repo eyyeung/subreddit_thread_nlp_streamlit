{
 "cells": [
  {
   "cell_type": "code",
   "execution_count": 2,
   "id": "b6fbc9c1",
   "metadata": {},
   "outputs": [],
   "source": [
    "import pandas as pd"
   ]
  },
  {
   "cell_type": "code",
   "execution_count": 3,
   "id": "280dab07",
   "metadata": {},
   "outputs": [],
   "source": [
    "df = pd.read_csv('./tagged_threads.csv')"
   ]
  },
  {
   "cell_type": "code",
   "execution_count": 4,
   "id": "876707bb",
   "metadata": {},
   "outputs": [
    {
     "data": {
      "text/html": [
       "<div>\n",
       "<style scoped>\n",
       "    .dataframe tbody tr th:only-of-type {\n",
       "        vertical-align: middle;\n",
       "    }\n",
       "\n",
       "    .dataframe tbody tr th {\n",
       "        vertical-align: top;\n",
       "    }\n",
       "\n",
       "    .dataframe thead th {\n",
       "        text-align: right;\n",
       "    }\n",
       "</style>\n",
       "<table border=\"1\" class=\"dataframe\">\n",
       "  <thead>\n",
       "    <tr style=\"text-align: right;\">\n",
       "      <th></th>\n",
       "      <th>submission_id</th>\n",
       "      <th>submission_title</th>\n",
       "      <th>submission_selftext</th>\n",
       "      <th>reply_body</th>\n",
       "      <th>all_text</th>\n",
       "      <th>created</th>\n",
       "      <th>tag</th>\n",
       "      <th>score</th>\n",
       "      <th>comments</th>\n",
       "      <th>url</th>\n",
       "    </tr>\n",
       "  </thead>\n",
       "  <tbody>\n",
       "    <tr>\n",
       "      <th>0</th>\n",
       "      <td>aglcrj</td>\n",
       "      <td>Goodnotes 4 vs. Goodnotes 5 right now</td>\n",
       "      <td>I have used Goodnotes 4 for work a ton.  And I...</td>\n",
       "      <td>[\"I'm getting a ton of bugs with 5 as well (sn...</td>\n",
       "      <td>Goodnotes 4 vs. Goodnotes 5 right nowI have us...</td>\n",
       "      <td>2019-01-16 13:55:45</td>\n",
       "      <td>Question</td>\n",
       "      <td>1.0</td>\n",
       "      <td>6.0</td>\n",
       "      <td>https://www.reddit.com/r/GoodNotes/comments/ag...</td>\n",
       "    </tr>\n",
       "    <tr>\n",
       "      <th>1</th>\n",
       "      <td>agoowm</td>\n",
       "      <td>The bundle is available !</td>\n",
       "      <td>NaN</td>\n",
       "      <td>['Thank you. I have been waiting!\\n\\n&amp;amp;#x20...</td>\n",
       "      <td>The bundle is available !The bundle is availab...</td>\n",
       "      <td>2019-01-16 19:25:07</td>\n",
       "      <td>Question</td>\n",
       "      <td>1.0</td>\n",
       "      <td>7.0</td>\n",
       "      <td>https://itunes.apple.com/ch/app-bundle/pack-de...</td>\n",
       "    </tr>\n",
       "    <tr>\n",
       "      <th>2</th>\n",
       "      <td>agprta</td>\n",
       "      <td>Finally... GoodNotes 5! Did I miss anything in...</td>\n",
       "      <td>NaN</td>\n",
       "      <td>['Man i imagined you would be a lot more popul...</td>\n",
       "      <td>Finally... GoodNotes 5! Did I miss anything in...</td>\n",
       "      <td>2019-01-16 21:03:06</td>\n",
       "      <td>Review</td>\n",
       "      <td>1.0</td>\n",
       "      <td>1.0</td>\n",
       "      <td>https://youtu.be/jf7K-4IsOI4</td>\n",
       "    </tr>\n",
       "    <tr>\n",
       "      <th>3</th>\n",
       "      <td>agpzxb</td>\n",
       "      <td>What happened to the pen (Goodnotes 5)?</td>\n",
       "      <td>I just got Goodnotes 5 and I was so excited fo...</td>\n",
       "      <td>[\"Have you tried the ball pen? That was the cl...</td>\n",
       "      <td>What happened to the pen (Goodnotes 5)?I just ...</td>\n",
       "      <td>2019-01-16 21:24:01</td>\n",
       "      <td>Question</td>\n",
       "      <td>1.0</td>\n",
       "      <td>28.0</td>\n",
       "      <td>https://www.reddit.com/r/GoodNotes/comments/ag...</td>\n",
       "    </tr>\n",
       "    <tr>\n",
       "      <th>4</th>\n",
       "      <td>agqksi</td>\n",
       "      <td>Text/typing in Goodnotes 5</td>\n",
       "      <td>Notability user here, but trying out Goodnotes...</td>\n",
       "      <td>[\"That's neat af\", 'Seattle, hopefully not too...</td>\n",
       "      <td>Text/typing in Goodnotes 5Notability user here...</td>\n",
       "      <td>2019-01-16 22:15:24</td>\n",
       "      <td>Question</td>\n",
       "      <td>1.0</td>\n",
       "      <td>0.0</td>\n",
       "      <td>https://www.reddit.com/r/GoodNotes/comments/ag...</td>\n",
       "    </tr>\n",
       "  </tbody>\n",
       "</table>\n",
       "</div>"
      ],
      "text/plain": [
       "  submission_id                                   submission_title  \\\n",
       "0        aglcrj              Goodnotes 4 vs. Goodnotes 5 right now   \n",
       "1        agoowm                          The bundle is available !   \n",
       "2        agprta  Finally... GoodNotes 5! Did I miss anything in...   \n",
       "3        agpzxb            What happened to the pen (Goodnotes 5)?   \n",
       "4        agqksi                         Text/typing in Goodnotes 5   \n",
       "\n",
       "                                 submission_selftext  \\\n",
       "0  I have used Goodnotes 4 for work a ton.  And I...   \n",
       "1                                                NaN   \n",
       "2                                                NaN   \n",
       "3  I just got Goodnotes 5 and I was so excited fo...   \n",
       "4  Notability user here, but trying out Goodnotes...   \n",
       "\n",
       "                                          reply_body  \\\n",
       "0  [\"I'm getting a ton of bugs with 5 as well (sn...   \n",
       "1  ['Thank you. I have been waiting!\\n\\n&amp;#x20...   \n",
       "2  ['Man i imagined you would be a lot more popul...   \n",
       "3  [\"Have you tried the ball pen? That was the cl...   \n",
       "4  [\"That's neat af\", 'Seattle, hopefully not too...   \n",
       "\n",
       "                                            all_text              created  \\\n",
       "0  Goodnotes 4 vs. Goodnotes 5 right nowI have us...  2019-01-16 13:55:45   \n",
       "1  The bundle is available !The bundle is availab...  2019-01-16 19:25:07   \n",
       "2  Finally... GoodNotes 5! Did I miss anything in...  2019-01-16 21:03:06   \n",
       "3  What happened to the pen (Goodnotes 5)?I just ...  2019-01-16 21:24:01   \n",
       "4  Text/typing in Goodnotes 5Notability user here...  2019-01-16 22:15:24   \n",
       "\n",
       "        tag  score  comments  \\\n",
       "0  Question    1.0       6.0   \n",
       "1  Question    1.0       7.0   \n",
       "2    Review    1.0       1.0   \n",
       "3  Question    1.0      28.0   \n",
       "4  Question    1.0       0.0   \n",
       "\n",
       "                                                 url  \n",
       "0  https://www.reddit.com/r/GoodNotes/comments/ag...  \n",
       "1  https://itunes.apple.com/ch/app-bundle/pack-de...  \n",
       "2                       https://youtu.be/jf7K-4IsOI4  \n",
       "3  https://www.reddit.com/r/GoodNotes/comments/ag...  \n",
       "4  https://www.reddit.com/r/GoodNotes/comments/ag...  "
      ]
     },
     "execution_count": 4,
     "metadata": {},
     "output_type": "execute_result"
    }
   ],
   "source": [
    "df.head()"
   ]
  },
  {
   "cell_type": "code",
   "execution_count": 5,
   "id": "a48659c7",
   "metadata": {},
   "outputs": [],
   "source": [
    "df['created'] = pd.to_datetime(df['created'])"
   ]
  },
  {
   "cell_type": "code",
   "execution_count": 6,
   "id": "feb570f5",
   "metadata": {},
   "outputs": [],
   "source": [
    "df['date'] = df['created'].dt.date"
   ]
  },
  {
   "cell_type": "code",
   "execution_count": 7,
   "id": "a9466f62",
   "metadata": {},
   "outputs": [],
   "source": [
    "df['year_month'] = df['created'].dt.strftime('%Y-%m')"
   ]
  },
  {
   "cell_type": "code",
   "execution_count": 8,
   "id": "e73ca464",
   "metadata": {},
   "outputs": [],
   "source": [
    "tag_count_monthly = df.groupby(['year_month','tag']).submission_id.count()"
   ]
  },
  {
   "cell_type": "code",
   "execution_count": 9,
   "id": "64176903",
   "metadata": {},
   "outputs": [
    {
     "data": {
      "text/plain": [
       "year_month  tag      \n",
       "2019-01     Question     11\n",
       "            Review        1\n",
       "            Templates     1\n",
       "2019-02     Question      4\n",
       "2019-03     Question      6\n",
       "Name: submission_id, dtype: int64"
      ]
     },
     "execution_count": 9,
     "metadata": {},
     "output_type": "execute_result"
    }
   ],
   "source": [
    "tag_count_monthly.head()"
   ]
  },
  {
   "cell_type": "code",
   "execution_count": 10,
   "id": "8ac8bc2d",
   "metadata": {},
   "outputs": [],
   "source": [
    "tag_count_monthly = tag_count_monthly.reset_index()"
   ]
  },
  {
   "cell_type": "code",
   "execution_count": 11,
   "id": "fcc830d2",
   "metadata": {},
   "outputs": [
    {
     "data": {
      "text/html": [
       "<div>\n",
       "<style scoped>\n",
       "    .dataframe tbody tr th:only-of-type {\n",
       "        vertical-align: middle;\n",
       "    }\n",
       "\n",
       "    .dataframe tbody tr th {\n",
       "        vertical-align: top;\n",
       "    }\n",
       "\n",
       "    .dataframe thead th {\n",
       "        text-align: right;\n",
       "    }\n",
       "</style>\n",
       "<table border=\"1\" class=\"dataframe\">\n",
       "  <thead>\n",
       "    <tr style=\"text-align: right;\">\n",
       "      <th></th>\n",
       "      <th>year_month</th>\n",
       "      <th>tag</th>\n",
       "      <th>submission_id</th>\n",
       "    </tr>\n",
       "  </thead>\n",
       "  <tbody>\n",
       "    <tr>\n",
       "      <th>0</th>\n",
       "      <td>2019-01</td>\n",
       "      <td>Question</td>\n",
       "      <td>11</td>\n",
       "    </tr>\n",
       "    <tr>\n",
       "      <th>1</th>\n",
       "      <td>2019-01</td>\n",
       "      <td>Review</td>\n",
       "      <td>1</td>\n",
       "    </tr>\n",
       "    <tr>\n",
       "      <th>2</th>\n",
       "      <td>2019-01</td>\n",
       "      <td>Templates</td>\n",
       "      <td>1</td>\n",
       "    </tr>\n",
       "    <tr>\n",
       "      <th>3</th>\n",
       "      <td>2019-02</td>\n",
       "      <td>Question</td>\n",
       "      <td>4</td>\n",
       "    </tr>\n",
       "    <tr>\n",
       "      <th>4</th>\n",
       "      <td>2019-03</td>\n",
       "      <td>Question</td>\n",
       "      <td>6</td>\n",
       "    </tr>\n",
       "  </tbody>\n",
       "</table>\n",
       "</div>"
      ],
      "text/plain": [
       "  year_month        tag  submission_id\n",
       "0    2019-01   Question             11\n",
       "1    2019-01     Review              1\n",
       "2    2019-01  Templates              1\n",
       "3    2019-02   Question              4\n",
       "4    2019-03   Question              6"
      ]
     },
     "execution_count": 11,
     "metadata": {},
     "output_type": "execute_result"
    }
   ],
   "source": [
    "tag_count_monthly.head()"
   ]
  },
  {
   "cell_type": "code",
   "execution_count": 12,
   "id": "c5752219",
   "metadata": {},
   "outputs": [
    {
     "data": {
      "text/plain": [
       "array(['2019-01', '2019-02', '2019-03', '2019-04', '2019-05', '2019-06',\n",
       "       '2019-07', '2019-08', '2019-09', '2019-10', '2019-11', '2019-12',\n",
       "       '2020-01', '2020-02', '2020-03', '2020-04', '2020-05', '2020-06',\n",
       "       '2020-07', '2020-08', '2020-09', '2020-10', '2020-11', '2020-12',\n",
       "       '2021-01', '2021-02', '2021-03', '2021-04', '2021-05'],\n",
       "      dtype=object)"
      ]
     },
     "execution_count": 12,
     "metadata": {},
     "output_type": "execute_result"
    }
   ],
   "source": [
    "tag_count_monthly.year_month.unique()"
   ]
  },
  {
   "cell_type": "code",
   "execution_count": 13,
   "id": "1ecbc2eb",
   "metadata": {},
   "outputs": [],
   "source": [
    "tag_count_monthly.to_csv('./tag_count_monthly.csv',index=False)"
   ]
  }
 ],
 "metadata": {
  "kernelspec": {
   "display_name": "Python 3 (ipykernel)",
   "language": "python",
   "name": "python3"
  },
  "language_info": {
   "codemirror_mode": {
    "name": "ipython",
    "version": 3
   },
   "file_extension": ".py",
   "mimetype": "text/x-python",
   "name": "python",
   "nbconvert_exporter": "python",
   "pygments_lexer": "ipython3",
   "version": "3.9.5"
  }
 },
 "nbformat": 4,
 "nbformat_minor": 5
}
